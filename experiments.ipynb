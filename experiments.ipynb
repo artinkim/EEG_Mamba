{
 "cells": [
  {
   "cell_type": "markdown",
   "metadata": {},
   "source": [
    "# ECE C147 Final Project - Evaluating Deep Learning Architectures for EEG Data Classification\n",
    "\n",
    "- Konstantin Tzantchev (tzantchev@ucla.edu)\n",
    "- Artin Kim (artinkim@ucla.edu)\n",
    "- Krystof Latka (latka@ucla.edu)\n",
    "- Gregor MacDonald (gregormacd6@ucla.edu)"
   ]
  },
  {
   "cell_type": "markdown",
   "metadata": {},
   "source": [
    "This notebook provides a framework to run the experiments that motivated our final report and were referenced therein. To re-run the experiments below, it is necessary to have this notebook in the root directory of the project repository."
   ]
  },
  {
   "cell_type": "markdown",
   "metadata": {},
   "source": [
    "## Dependencies & utility functions\n",
    "\n",
    "The project utilizes the PyTorch framework. The code to run these experiments uses PyTorch in combination with the OOP paradigm in order to provide a modular framework to easily run different kinds of experiments with minimal code. All of the dependencies are thus taken care of within the project's .py files. To run experiments, it is only necessary to import `train.py`. In addition, we include a utility function that generates plots to visualize training data using `matplotlib.pyplot`."
   ]
  },
  {
   "cell_type": "code",
   "execution_count": 7,
   "metadata": {},
   "outputs": [],
   "source": [
    "from train import train\n",
    "import matplotlib.pyplot as plt\n",
    "\n",
    "def plot_stats(stats):    \n",
    "    if stats:\n",
    "        train_losses = stats[\"train_losses\"]\n",
    "        val_losses = stats[\"val_losses\"]\n",
    "        train_accuracies = stats[\"train_accuracies\"]\n",
    "        val_accuracies = stats[\"val_accuracies\"]\n",
    "\n",
    "        plt.figure()\n",
    "        plt.plot(train_losses, label=\"Average train Loss\")\n",
    "        plt.plot(val_losses, label=\"Average validation Loss\")\n",
    "        plt.xlabel(\"Epoch\")\n",
    "        plt.legend()\n",
    "        plt.show()\n",
    "\n",
    "        plt.figure()\n",
    "        plt.plot(train_accuracies, label=\"Train Accuracy\")\n",
    "        plt.plot(val_accuracies, label=\"Validation Accuracy\")\n",
    "        plt.xlabel(\"Epoch\")\n",
    "        plt.legend()\n",
    "        plt.show()"
   ]
  },
  {
   "cell_type": "markdown",
   "metadata": {},
   "source": [
    "## Running experiments\n",
    "\n",
    "To run an experiment, it is sufficient to call the `train` function imported above with a parameter specifying the name of the experiment. It is also possible to specify a device to be used for training, as well as some of the training hyperparameters. Whenever the optimal hyperparameters deviate from the default values set by the `train` function, we provide the values that we found provided the best results. Appropriate data augmentation is automatically applied upon loading the datasets."
   ]
  },
  {
   "cell_type": "markdown",
   "metadata": {},
   "source": [
    "### Experiment \\#1: Convolutional Neural Network performing 1D convolution\n",
    "\n",
    "The architecture trained below is a Convolutional Neural Network that peforms 1D convolution on the 22-channel input. The selected hyperparameters used here and in `train.py` yielded the best results when we performed experiments.\n",
    "More specific details about the architecture and hyperparameters of this model can be found in the corresponding section of `train.py`, as well as in the file `cnn_1d.py`."
   ]
  },
  {
   "cell_type": "code",
   "execution_count": 8,
   "metadata": {},
   "outputs": [
    {
     "name": "stderr",
     "output_type": "stream",
     "text": [
      "Epoch 1/75: 100%|██████████| 119/119 [00:03<00:00, 38.28it/s, loss=1.48]\n"
     ]
    },
    {
     "name": "stdout",
     "output_type": "stream",
     "text": [
      "Epoch 1 - Avg Train Loss: 1.5333\n",
      "Epoch 1 - Avg Val Loss: 1.3671, Train Accuracy: 34.5770, Val Accuracy: 32.0755\n"
     ]
    },
    {
     "name": "stderr",
     "output_type": "stream",
     "text": [
      "Epoch 2/75: 100%|██████████| 119/119 [00:02<00:00, 50.09it/s, loss=1.39]\n"
     ]
    },
    {
     "name": "stdout",
     "output_type": "stream",
     "text": [
      "Epoch 2 - Avg Train Loss: 1.4324\n",
      "Epoch 2 - Avg Val Loss: 1.4210, Train Accuracy: 33.2633, Val Accuracy: 32.0755\n"
     ]
    },
    {
     "name": "stderr",
     "output_type": "stream",
     "text": [
      "Epoch 3/75: 100%|██████████| 119/119 [00:02<00:00, 47.78it/s, loss=1.34]\n"
     ]
    },
    {
     "name": "stdout",
     "output_type": "stream",
     "text": [
      "Epoch 3 - Avg Train Loss: 1.3783\n",
      "Epoch 3 - Avg Val Loss: 1.4363, Train Accuracy: 39.8450, Val Accuracy: 35.8491\n"
     ]
    },
    {
     "name": "stderr",
     "output_type": "stream",
     "text": [
      "Epoch 4/75: 100%|██████████| 119/119 [00:02<00:00, 48.94it/s, loss=1.19]\n"
     ]
    },
    {
     "name": "stdout",
     "output_type": "stream",
     "text": [
      "Epoch 4 - Avg Train Loss: 1.3369\n",
      "Epoch 4 - Avg Val Loss: 1.3691, Train Accuracy: 45.2312, Val Accuracy: 40.5660\n"
     ]
    },
    {
     "name": "stderr",
     "output_type": "stream",
     "text": [
      "Epoch 5/75: 100%|██████████| 119/119 [00:02<00:00, 49.52it/s, loss=1.27]\n"
     ]
    },
    {
     "name": "stdout",
     "output_type": "stream",
     "text": [
      "Epoch 5 - Avg Train Loss: 1.2801\n",
      "Epoch 5 - Avg Val Loss: 1.3335, Train Accuracy: 46.2034, Val Accuracy: 44.8113\n"
     ]
    },
    {
     "name": "stderr",
     "output_type": "stream",
     "text": [
      "Epoch 6/75: 100%|██████████| 119/119 [00:02<00:00, 48.91it/s, loss=1.36]\n"
     ]
    },
    {
     "name": "stdout",
     "output_type": "stream",
     "text": [
      "Epoch 6 - Avg Train Loss: 1.2332\n",
      "Epoch 6 - Avg Val Loss: 1.2668, Train Accuracy: 48.4761, Val Accuracy: 48.1132\n"
     ]
    },
    {
     "name": "stderr",
     "output_type": "stream",
     "text": [
      "Epoch 7/75: 100%|██████████| 119/119 [00:02<00:00, 49.20it/s, loss=1.11] \n"
     ]
    },
    {
     "name": "stdout",
     "output_type": "stream",
     "text": [
      "Epoch 7 - Avg Train Loss: 1.1912\n",
      "Epoch 7 - Avg Val Loss: 1.2638, Train Accuracy: 49.4351, Val Accuracy: 49.0566\n"
     ]
    },
    {
     "name": "stderr",
     "output_type": "stream",
     "text": [
      "Epoch 8/75: 100%|██████████| 119/119 [00:02<00:00, 49.28it/s, loss=1.3]  \n"
     ]
    },
    {
     "name": "stdout",
     "output_type": "stream",
     "text": [
      "Epoch 8 - Avg Train Loss: 1.1536\n",
      "Epoch 8 - Avg Val Loss: 1.1513, Train Accuracy: 56.6999, Val Accuracy: 52.3585\n"
     ]
    },
    {
     "name": "stderr",
     "output_type": "stream",
     "text": [
      "Epoch 9/75: 100%|██████████| 119/119 [00:02<00:00, 49.17it/s, loss=1.15] \n"
     ]
    },
    {
     "name": "stdout",
     "output_type": "stream",
     "text": [
      "Epoch 9 - Avg Train Loss: 1.1311\n",
      "Epoch 9 - Avg Val Loss: 1.1723, Train Accuracy: 57.6984, Val Accuracy: 51.8868\n"
     ]
    },
    {
     "name": "stderr",
     "output_type": "stream",
     "text": [
      "Epoch 10/75: 100%|██████████| 119/119 [00:02<00:00, 48.47it/s, loss=1.1]  \n"
     ]
    },
    {
     "name": "stdout",
     "output_type": "stream",
     "text": [
      "Epoch 10 - Avg Train Loss: 1.0883\n",
      "Epoch 10 - Avg Val Loss: 1.1160, Train Accuracy: 58.1450, Val Accuracy: 55.1887\n"
     ]
    },
    {
     "name": "stderr",
     "output_type": "stream",
     "text": [
      "Epoch 11/75: 100%|██████████| 119/119 [00:02<00:00, 48.55it/s, loss=0.89] \n"
     ]
    },
    {
     "name": "stdout",
     "output_type": "stream",
     "text": [
      "Epoch 11 - Avg Train Loss: 1.0709\n",
      "Epoch 11 - Avg Val Loss: 1.1076, Train Accuracy: 58.9201, Val Accuracy: 56.6038\n"
     ]
    },
    {
     "name": "stderr",
     "output_type": "stream",
     "text": [
      "Epoch 12/75: 100%|██████████| 119/119 [00:02<00:00, 49.51it/s, loss=0.979]\n"
     ]
    },
    {
     "name": "stdout",
     "output_type": "stream",
     "text": [
      "Epoch 12 - Avg Train Loss: 1.0348\n",
      "Epoch 12 - Avg Val Loss: 1.1126, Train Accuracy: 57.9086, Val Accuracy: 53.7736\n"
     ]
    },
    {
     "name": "stderr",
     "output_type": "stream",
     "text": [
      "Epoch 13/75: 100%|██████████| 119/119 [00:02<00:00, 48.74it/s, loss=1.2]  \n"
     ]
    },
    {
     "name": "stdout",
     "output_type": "stream",
     "text": [
      "Epoch 13 - Avg Train Loss: 1.0207\n",
      "Epoch 13 - Avg Val Loss: 1.0238, Train Accuracy: 60.4309, Val Accuracy: 55.1887\n"
     ]
    },
    {
     "name": "stderr",
     "output_type": "stream",
     "text": [
      "Epoch 14/75: 100%|██████████| 119/119 [00:02<00:00, 50.00it/s, loss=0.982]\n"
     ]
    },
    {
     "name": "stdout",
     "output_type": "stream",
     "text": [
      "Epoch 14 - Avg Train Loss: 0.9864\n",
      "Epoch 14 - Avg Val Loss: 0.9826, Train Accuracy: 63.3605, Val Accuracy: 58.4906\n"
     ]
    },
    {
     "name": "stderr",
     "output_type": "stream",
     "text": [
      "Epoch 15/75: 100%|██████████| 119/119 [00:02<00:00, 50.84it/s, loss=0.805]\n"
     ]
    },
    {
     "name": "stdout",
     "output_type": "stream",
     "text": [
      "Epoch 15 - Avg Train Loss: 0.9561\n",
      "Epoch 15 - Avg Val Loss: 0.9869, Train Accuracy: 63.8203, Val Accuracy: 58.0189\n"
     ]
    },
    {
     "name": "stderr",
     "output_type": "stream",
     "text": [
      "Epoch 16/75: 100%|██████████| 119/119 [00:02<00:00, 50.98it/s, loss=0.984]\n"
     ]
    },
    {
     "name": "stdout",
     "output_type": "stream",
     "text": [
      "Epoch 16 - Avg Train Loss: 0.9507\n",
      "Epoch 16 - Avg Val Loss: 1.0417, Train Accuracy: 62.2701, Val Accuracy: 56.6038\n"
     ]
    },
    {
     "name": "stderr",
     "output_type": "stream",
     "text": [
      "Epoch 17/75: 100%|██████████| 119/119 [00:02<00:00, 51.05it/s, loss=0.876]\n"
     ]
    },
    {
     "name": "stdout",
     "output_type": "stream",
     "text": [
      "Epoch 17 - Avg Train Loss: 0.9254\n",
      "Epoch 17 - Avg Val Loss: 1.0303, Train Accuracy: 64.2144, Val Accuracy: 58.0189\n"
     ]
    },
    {
     "name": "stderr",
     "output_type": "stream",
     "text": [
      "Epoch 18/75: 100%|██████████| 119/119 [00:02<00:00, 50.97it/s, loss=0.75] \n"
     ]
    },
    {
     "name": "stdout",
     "output_type": "stream",
     "text": [
      "Epoch 18 - Avg Train Loss: 0.8997\n",
      "Epoch 18 - Avg Val Loss: 1.0339, Train Accuracy: 64.8187, Val Accuracy: 60.3774\n"
     ]
    },
    {
     "name": "stderr",
     "output_type": "stream",
     "text": [
      "Epoch 19/75: 100%|██████████| 119/119 [00:02<00:00, 51.05it/s, loss=0.958]\n"
     ]
    },
    {
     "name": "stdout",
     "output_type": "stream",
     "text": [
      "Epoch 19 - Avg Train Loss: 0.8895\n",
      "Epoch 19 - Avg Val Loss: 0.9754, Train Accuracy: 66.7236, Val Accuracy: 61.7925\n"
     ]
    },
    {
     "name": "stderr",
     "output_type": "stream",
     "text": [
      "Epoch 20/75: 100%|██████████| 119/119 [00:02<00:00, 51.04it/s, loss=0.838]\n"
     ]
    },
    {
     "name": "stdout",
     "output_type": "stream",
     "text": [
      "Epoch 20 - Avg Train Loss: 0.8685\n",
      "Epoch 20 - Avg Val Loss: 0.9340, Train Accuracy: 67.3016, Val Accuracy: 60.8491\n"
     ]
    },
    {
     "name": "stderr",
     "output_type": "stream",
     "text": [
      "Epoch 21/75: 100%|██████████| 119/119 [00:02<00:00, 50.48it/s, loss=0.952]\n"
     ]
    },
    {
     "name": "stdout",
     "output_type": "stream",
     "text": [
      "Epoch 21 - Avg Train Loss: 0.8692\n",
      "Epoch 21 - Avg Val Loss: 0.9704, Train Accuracy: 66.3163, Val Accuracy: 60.8491\n"
     ]
    },
    {
     "name": "stderr",
     "output_type": "stream",
     "text": [
      "Epoch 22/75: 100%|██████████| 119/119 [00:02<00:00, 48.46it/s, loss=0.675]\n"
     ]
    },
    {
     "name": "stdout",
     "output_type": "stream",
     "text": [
      "Epoch 22 - Avg Train Loss: 0.8257\n",
      "Epoch 22 - Avg Val Loss: 0.9916, Train Accuracy: 68.8518, Val Accuracy: 62.2642\n"
     ]
    },
    {
     "name": "stderr",
     "output_type": "stream",
     "text": [
      "Epoch 23/75: 100%|██████████| 119/119 [00:02<00:00, 50.87it/s, loss=0.829]\n"
     ]
    },
    {
     "name": "stdout",
     "output_type": "stream",
     "text": [
      "Epoch 23 - Avg Train Loss: 0.8169\n",
      "Epoch 23 - Avg Val Loss: 0.9522, Train Accuracy: 68.2475, Val Accuracy: 62.2642\n"
     ]
    },
    {
     "name": "stderr",
     "output_type": "stream",
     "text": [
      "Epoch 24/75: 100%|██████████| 119/119 [00:02<00:00, 49.05it/s, loss=1]    \n"
     ]
    },
    {
     "name": "stdout",
     "output_type": "stream",
     "text": [
      "Epoch 24 - Avg Train Loss: 0.7980\n",
      "Epoch 24 - Avg Val Loss: 0.9396, Train Accuracy: 70.0867, Val Accuracy: 62.2642\n"
     ]
    },
    {
     "name": "stderr",
     "output_type": "stream",
     "text": [
      "Epoch 25/75: 100%|██████████| 119/119 [00:02<00:00, 49.29it/s, loss=0.738]\n"
     ]
    },
    {
     "name": "stdout",
     "output_type": "stream",
     "text": [
      "Epoch 25 - Avg Train Loss: 0.7909\n",
      "Epoch 25 - Avg Val Loss: 0.9215, Train Accuracy: 70.5859, Val Accuracy: 62.2642\n"
     ]
    },
    {
     "name": "stderr",
     "output_type": "stream",
     "text": [
      "Epoch 26/75: 100%|██████████| 119/119 [00:02<00:00, 48.85it/s, loss=0.896]\n"
     ]
    },
    {
     "name": "stdout",
     "output_type": "stream",
     "text": [
      "Epoch 26 - Avg Train Loss: 0.7729\n",
      "Epoch 26 - Avg Val Loss: 0.8867, Train Accuracy: 69.3116, Val Accuracy: 63.2075\n"
     ]
    },
    {
     "name": "stderr",
     "output_type": "stream",
     "text": [
      "Epoch 27/75: 100%|██████████| 119/119 [00:02<00:00, 49.94it/s, loss=0.76] \n"
     ]
    },
    {
     "name": "stdout",
     "output_type": "stream",
     "text": [
      "Epoch 27 - Avg Train Loss: 0.7400\n",
      "Epoch 27 - Avg Val Loss: 0.8810, Train Accuracy: 71.6369, Val Accuracy: 63.6792\n"
     ]
    },
    {
     "name": "stderr",
     "output_type": "stream",
     "text": [
      "Epoch 28/75: 100%|██████████| 119/119 [00:02<00:00, 49.62it/s, loss=0.925]\n"
     ]
    },
    {
     "name": "stdout",
     "output_type": "stream",
     "text": [
      "Epoch 28 - Avg Train Loss: 0.7430\n",
      "Epoch 28 - Avg Val Loss: 0.8768, Train Accuracy: 73.2396, Val Accuracy: 65.0943\n"
     ]
    },
    {
     "name": "stderr",
     "output_type": "stream",
     "text": [
      "Epoch 29/75: 100%|██████████| 119/119 [00:02<00:00, 49.88it/s, loss=0.755]\n"
     ]
    },
    {
     "name": "stdout",
     "output_type": "stream",
     "text": [
      "Epoch 29 - Avg Train Loss: 0.7263\n",
      "Epoch 29 - Avg Val Loss: 0.8556, Train Accuracy: 74.0279, Val Accuracy: 67.4528\n"
     ]
    },
    {
     "name": "stderr",
     "output_type": "stream",
     "text": [
      "Epoch 30/75: 100%|██████████| 119/119 [00:02<00:00, 49.98it/s, loss=0.537]\n"
     ]
    },
    {
     "name": "stdout",
     "output_type": "stream",
     "text": [
      "Epoch 30 - Avg Train Loss: 0.7037\n",
      "Epoch 30 - Avg Val Loss: 0.8713, Train Accuracy: 75.1971, Val Accuracy: 67.4528\n"
     ]
    },
    {
     "name": "stderr",
     "output_type": "stream",
     "text": [
      "Epoch 31/75: 100%|██████████| 119/119 [00:02<00:00, 50.01it/s, loss=0.687]\n"
     ]
    },
    {
     "name": "stdout",
     "output_type": "stream",
     "text": [
      "Epoch 31 - Avg Train Loss: 0.6914\n",
      "Epoch 31 - Avg Val Loss: 0.8754, Train Accuracy: 75.3678, Val Accuracy: 67.4528\n"
     ]
    },
    {
     "name": "stderr",
     "output_type": "stream",
     "text": [
      "Epoch 32/75: 100%|██████████| 119/119 [00:02<00:00, 49.87it/s, loss=0.589]\n"
     ]
    },
    {
     "name": "stdout",
     "output_type": "stream",
     "text": [
      "Epoch 32 - Avg Train Loss: 0.6758\n",
      "Epoch 32 - Avg Val Loss: 0.8096, Train Accuracy: 78.0084, Val Accuracy: 70.7547\n"
     ]
    },
    {
     "name": "stderr",
     "output_type": "stream",
     "text": [
      "Epoch 33/75: 100%|██████████| 119/119 [00:02<00:00, 50.08it/s, loss=0.749]\n"
     ]
    },
    {
     "name": "stdout",
     "output_type": "stream",
     "text": [
      "Epoch 33 - Avg Train Loss: 0.6503\n",
      "Epoch 33 - Avg Val Loss: 0.8102, Train Accuracy: 78.0347, Val Accuracy: 69.8113\n"
     ]
    },
    {
     "name": "stderr",
     "output_type": "stream",
     "text": [
      "Epoch 34/75: 100%|██████████| 119/119 [00:02<00:00, 49.84it/s, loss=0.561]\n"
     ]
    },
    {
     "name": "stdout",
     "output_type": "stream",
     "text": [
      "Epoch 34 - Avg Train Loss: 0.6417\n",
      "Epoch 34 - Avg Val Loss: 0.8610, Train Accuracy: 78.1004, Val Accuracy: 67.9245\n"
     ]
    },
    {
     "name": "stderr",
     "output_type": "stream",
     "text": [
      "Epoch 35/75: 100%|██████████| 119/119 [00:02<00:00, 46.95it/s, loss=0.525]\n"
     ]
    },
    {
     "name": "stdout",
     "output_type": "stream",
     "text": [
      "Epoch 35 - Avg Train Loss: 0.6335\n",
      "Epoch 35 - Avg Val Loss: 0.7954, Train Accuracy: 80.0184, Val Accuracy: 68.8679\n"
     ]
    },
    {
     "name": "stderr",
     "output_type": "stream",
     "text": [
      "Epoch 36/75: 100%|██████████| 119/119 [00:02<00:00, 49.42it/s, loss=0.676]\n"
     ]
    },
    {
     "name": "stdout",
     "output_type": "stream",
     "text": [
      "Epoch 36 - Avg Train Loss: 0.6203\n",
      "Epoch 36 - Avg Val Loss: 0.7734, Train Accuracy: 79.0068, Val Accuracy: 70.2830\n"
     ]
    },
    {
     "name": "stderr",
     "output_type": "stream",
     "text": [
      "Epoch 37/75: 100%|██████████| 119/119 [00:02<00:00, 49.62it/s, loss=0.533]\n"
     ]
    },
    {
     "name": "stdout",
     "output_type": "stream",
     "text": [
      "Epoch 37 - Avg Train Loss: 0.6002\n",
      "Epoch 37 - Avg Val Loss: 0.7814, Train Accuracy: 81.1876, Val Accuracy: 69.8113\n"
     ]
    },
    {
     "name": "stderr",
     "output_type": "stream",
     "text": [
      "Epoch 38/75: 100%|██████████| 119/119 [00:02<00:00, 49.51it/s, loss=0.618]\n"
     ]
    },
    {
     "name": "stdout",
     "output_type": "stream",
     "text": [
      "Epoch 38 - Avg Train Loss: 0.5697\n",
      "Epoch 38 - Avg Val Loss: 0.7444, Train Accuracy: 83.1582, Val Accuracy: 74.0566\n"
     ]
    },
    {
     "name": "stderr",
     "output_type": "stream",
     "text": [
      "Epoch 39/75: 100%|██████████| 119/119 [00:02<00:00, 48.75it/s, loss=0.509]\n"
     ]
    },
    {
     "name": "stdout",
     "output_type": "stream",
     "text": [
      "Epoch 39 - Avg Train Loss: 0.5675\n",
      "Epoch 39 - Avg Val Loss: 0.7110, Train Accuracy: 84.3668, Val Accuracy: 72.1698\n"
     ]
    },
    {
     "name": "stderr",
     "output_type": "stream",
     "text": [
      "Epoch 40/75: 100%|██████████| 119/119 [00:02<00:00, 49.30it/s, loss=0.476]\n"
     ]
    },
    {
     "name": "stdout",
     "output_type": "stream",
     "text": [
      "Epoch 40 - Avg Train Loss: 0.5444\n",
      "Epoch 40 - Avg Val Loss: 0.7146, Train Accuracy: 85.2733, Val Accuracy: 73.1132\n"
     ]
    },
    {
     "name": "stderr",
     "output_type": "stream",
     "text": [
      "Epoch 41/75: 100%|██████████| 119/119 [00:02<00:00, 49.32it/s, loss=0.477]\n"
     ]
    },
    {
     "name": "stdout",
     "output_type": "stream",
     "text": [
      "Epoch 41 - Avg Train Loss: 0.5417\n",
      "Epoch 41 - Avg Val Loss: 0.7520, Train Accuracy: 84.4456, Val Accuracy: 72.1698\n"
     ]
    },
    {
     "name": "stderr",
     "output_type": "stream",
     "text": [
      "Epoch 42/75: 100%|██████████| 119/119 [00:02<00:00, 49.90it/s, loss=0.487]\n"
     ]
    },
    {
     "name": "stdout",
     "output_type": "stream",
     "text": [
      "Epoch 42 - Avg Train Loss: 0.5114\n",
      "Epoch 42 - Avg Val Loss: 0.7157, Train Accuracy: 85.0762, Val Accuracy: 73.1132\n"
     ]
    },
    {
     "name": "stderr",
     "output_type": "stream",
     "text": [
      "Epoch 43/75: 100%|██████████| 119/119 [00:02<00:00, 49.62it/s, loss=0.501]\n"
     ]
    },
    {
     "name": "stdout",
     "output_type": "stream",
     "text": [
      "Epoch 43 - Avg Train Loss: 0.4998\n",
      "Epoch 43 - Avg Val Loss: 0.7454, Train Accuracy: 86.6789, Val Accuracy: 74.0566\n"
     ]
    },
    {
     "name": "stderr",
     "output_type": "stream",
     "text": [
      "Epoch 44/75: 100%|██████████| 119/119 [00:02<00:00, 49.14it/s, loss=0.511]\n"
     ]
    },
    {
     "name": "stdout",
     "output_type": "stream",
     "text": [
      "Epoch 44 - Avg Train Loss: 0.4796\n",
      "Epoch 44 - Avg Val Loss: 0.6903, Train Accuracy: 89.0830, Val Accuracy: 73.1132\n"
     ]
    },
    {
     "name": "stderr",
     "output_type": "stream",
     "text": [
      "Epoch 45/75: 100%|██████████| 119/119 [00:02<00:00, 49.78it/s, loss=0.402]\n"
     ]
    },
    {
     "name": "stdout",
     "output_type": "stream",
     "text": [
      "Epoch 45 - Avg Train Loss: 0.4744\n",
      "Epoch 45 - Avg Val Loss: 0.7515, Train Accuracy: 88.9122, Val Accuracy: 72.1698\n"
     ]
    },
    {
     "name": "stderr",
     "output_type": "stream",
     "text": [
      "Epoch 46/75: 100%|██████████| 119/119 [00:02<00:00, 47.62it/s, loss=0.21] \n"
     ]
    },
    {
     "name": "stdout",
     "output_type": "stream",
     "text": [
      "Epoch 46 - Avg Train Loss: 0.4536\n",
      "Epoch 46 - Avg Val Loss: 0.6984, Train Accuracy: 90.5413, Val Accuracy: 72.6415\n"
     ]
    },
    {
     "name": "stderr",
     "output_type": "stream",
     "text": [
      "Epoch 47/75: 100%|██████████| 119/119 [00:02<00:00, 49.51it/s, loss=0.585]\n"
     ]
    },
    {
     "name": "stdout",
     "output_type": "stream",
     "text": [
      "Epoch 47 - Avg Train Loss: 0.4446\n",
      "Epoch 47 - Avg Val Loss: 0.7087, Train Accuracy: 89.8975, Val Accuracy: 73.5849\n"
     ]
    },
    {
     "name": "stderr",
     "output_type": "stream",
     "text": [
      "Epoch 48/75: 100%|██████████| 119/119 [00:02<00:00, 49.45it/s, loss=0.381]\n"
     ]
    },
    {
     "name": "stdout",
     "output_type": "stream",
     "text": [
      "Epoch 48 - Avg Train Loss: 0.4312\n",
      "Epoch 48 - Avg Val Loss: 0.6819, Train Accuracy: 90.6201, Val Accuracy: 75.9434\n"
     ]
    },
    {
     "name": "stderr",
     "output_type": "stream",
     "text": [
      "Epoch 49/75: 100%|██████████| 119/119 [00:02<00:00, 49.10it/s, loss=0.37] \n"
     ]
    },
    {
     "name": "stdout",
     "output_type": "stream",
     "text": [
      "Epoch 49 - Avg Train Loss: 0.4110\n",
      "Epoch 49 - Avg Val Loss: 0.6710, Train Accuracy: 92.4987, Val Accuracy: 75.9434\n"
     ]
    },
    {
     "name": "stderr",
     "output_type": "stream",
     "text": [
      "Epoch 50/75: 100%|██████████| 119/119 [00:02<00:00, 49.11it/s, loss=0.524]\n"
     ]
    },
    {
     "name": "stdout",
     "output_type": "stream",
     "text": [
      "Epoch 50 - Avg Train Loss: 0.4079\n",
      "Epoch 50 - Avg Val Loss: 0.6414, Train Accuracy: 93.6416, Val Accuracy: 75.9434\n"
     ]
    },
    {
     "name": "stderr",
     "output_type": "stream",
     "text": [
      "Epoch 51/75: 100%|██████████| 119/119 [00:02<00:00, 49.45it/s, loss=0.335]\n"
     ]
    },
    {
     "name": "stdout",
     "output_type": "stream",
     "text": [
      "Epoch 51 - Avg Train Loss: 0.3975\n",
      "Epoch 51 - Avg Val Loss: 0.6933, Train Accuracy: 93.0242, Val Accuracy: 75.4717\n"
     ]
    },
    {
     "name": "stderr",
     "output_type": "stream",
     "text": [
      "Epoch 52/75: 100%|██████████| 119/119 [00:02<00:00, 49.62it/s, loss=0.342]\n"
     ]
    },
    {
     "name": "stdout",
     "output_type": "stream",
     "text": [
      "Epoch 52 - Avg Train Loss: 0.3906\n",
      "Epoch 52 - Avg Val Loss: 0.6937, Train Accuracy: 94.1540, Val Accuracy: 74.0566\n"
     ]
    },
    {
     "name": "stderr",
     "output_type": "stream",
     "text": [
      "Epoch 53/75: 100%|██████████| 119/119 [00:02<00:00, 49.56it/s, loss=0.325]\n"
     ]
    },
    {
     "name": "stdout",
     "output_type": "stream",
     "text": [
      "Epoch 53 - Avg Train Loss: 0.3786\n",
      "Epoch 53 - Avg Val Loss: 0.6655, Train Accuracy: 94.7583, Val Accuracy: 75.9434\n"
     ]
    },
    {
     "name": "stderr",
     "output_type": "stream",
     "text": [
      "Epoch 54/75: 100%|██████████| 119/119 [00:02<00:00, 48.66it/s, loss=0.371]\n"
     ]
    },
    {
     "name": "stdout",
     "output_type": "stream",
     "text": [
      "Epoch 54 - Avg Train Loss: 0.3639\n",
      "Epoch 54 - Avg Val Loss: 0.6703, Train Accuracy: 95.8487, Val Accuracy: 75.9434\n"
     ]
    },
    {
     "name": "stderr",
     "output_type": "stream",
     "text": [
      "Epoch 55/75: 100%|██████████| 119/119 [00:02<00:00, 49.46it/s, loss=0.295]\n"
     ]
    },
    {
     "name": "stdout",
     "output_type": "stream",
     "text": [
      "Epoch 55 - Avg Train Loss: 0.3428\n",
      "Epoch 55 - Avg Val Loss: 0.6888, Train Accuracy: 95.0736, Val Accuracy: 76.4151\n"
     ]
    },
    {
     "name": "stderr",
     "output_type": "stream",
     "text": [
      "Epoch 56/75: 100%|██████████| 119/119 [00:02<00:00, 50.82it/s, loss=0.334]\n"
     ]
    },
    {
     "name": "stdout",
     "output_type": "stream",
     "text": [
      "Epoch 56 - Avg Train Loss: 0.3380\n",
      "Epoch 56 - Avg Val Loss: 0.6623, Train Accuracy: 96.5449, Val Accuracy: 76.8868\n"
     ]
    },
    {
     "name": "stderr",
     "output_type": "stream",
     "text": [
      "Epoch 57/75: 100%|██████████| 119/119 [00:02<00:00, 44.95it/s, loss=0.3]  \n"
     ]
    },
    {
     "name": "stdout",
     "output_type": "stream",
     "text": [
      "Epoch 57 - Avg Train Loss: 0.3281\n",
      "Epoch 57 - Avg Val Loss: 0.7722, Train Accuracy: 95.9932, Val Accuracy: 74.5283\n"
     ]
    },
    {
     "name": "stderr",
     "output_type": "stream",
     "text": [
      "Epoch 58/75: 100%|██████████| 119/119 [00:02<00:00, 41.96it/s, loss=0.321]\n"
     ]
    },
    {
     "name": "stdout",
     "output_type": "stream",
     "text": [
      "Epoch 58 - Avg Train Loss: 0.3297\n",
      "Epoch 58 - Avg Val Loss: 0.6981, Train Accuracy: 97.9375, Val Accuracy: 76.8868\n"
     ]
    },
    {
     "name": "stderr",
     "output_type": "stream",
     "text": [
      "Epoch 59/75: 100%|██████████| 119/119 [00:02<00:00, 40.58it/s, loss=0.316]\n"
     ]
    },
    {
     "name": "stdout",
     "output_type": "stream",
     "text": [
      "Epoch 59 - Avg Train Loss: 0.3193\n",
      "Epoch 59 - Avg Val Loss: 0.6732, Train Accuracy: 97.5696, Val Accuracy: 75.4717\n"
     ]
    },
    {
     "name": "stderr",
     "output_type": "stream",
     "text": [
      "Epoch 60/75: 100%|██████████| 119/119 [00:02<00:00, 47.22it/s, loss=0.263]\n"
     ]
    },
    {
     "name": "stdout",
     "output_type": "stream",
     "text": [
      "Epoch 60 - Avg Train Loss: 0.3094\n",
      "Epoch 60 - Avg Val Loss: 0.6666, Train Accuracy: 97.8324, Val Accuracy: 78.7736\n"
     ]
    },
    {
     "name": "stderr",
     "output_type": "stream",
     "text": [
      "Epoch 61/75: 100%|██████████| 119/119 [00:02<00:00, 47.65it/s, loss=0.325]\n"
     ]
    },
    {
     "name": "stdout",
     "output_type": "stream",
     "text": [
      "Epoch 61 - Avg Train Loss: 0.3046\n",
      "Epoch 61 - Avg Val Loss: 0.6313, Train Accuracy: 98.2265, Val Accuracy: 77.3585\n"
     ]
    },
    {
     "name": "stderr",
     "output_type": "stream",
     "text": [
      "Epoch 62/75: 100%|██████████| 119/119 [00:02<00:00, 46.00it/s, loss=0.299]\n"
     ]
    },
    {
     "name": "stdout",
     "output_type": "stream",
     "text": [
      "Epoch 62 - Avg Train Loss: 0.2797\n",
      "Epoch 62 - Avg Val Loss: 0.6453, Train Accuracy: 98.8702, Val Accuracy: 74.5283\n"
     ]
    },
    {
     "name": "stderr",
     "output_type": "stream",
     "text": [
      "Epoch 63/75: 100%|██████████| 119/119 [00:02<00:00, 46.31it/s, loss=0.181]\n"
     ]
    },
    {
     "name": "stdout",
     "output_type": "stream",
     "text": [
      "Epoch 63 - Avg Train Loss: 0.2955\n",
      "Epoch 63 - Avg Val Loss: 0.6750, Train Accuracy: 98.7651, Val Accuracy: 74.5283\n"
     ]
    },
    {
     "name": "stderr",
     "output_type": "stream",
     "text": [
      "Epoch 64/75: 100%|██████████| 119/119 [00:02<00:00, 50.29it/s, loss=0.379]\n"
     ]
    },
    {
     "name": "stdout",
     "output_type": "stream",
     "text": [
      "Epoch 64 - Avg Train Loss: 0.2787\n",
      "Epoch 64 - Avg Val Loss: 0.6562, Train Accuracy: 99.0804, Val Accuracy: 77.3585\n"
     ]
    },
    {
     "name": "stderr",
     "output_type": "stream",
     "text": [
      "Epoch 65/75: 100%|██████████| 119/119 [00:02<00:00, 48.68it/s, loss=0.259]\n"
     ]
    },
    {
     "name": "stdout",
     "output_type": "stream",
     "text": [
      "Epoch 65 - Avg Train Loss: 0.2747\n",
      "Epoch 65 - Avg Val Loss: 0.6585, Train Accuracy: 98.8833, Val Accuracy: 76.4151\n"
     ]
    },
    {
     "name": "stderr",
     "output_type": "stream",
     "text": [
      "Epoch 66/75: 100%|██████████| 119/119 [00:02<00:00, 49.31it/s, loss=0.256]\n"
     ]
    },
    {
     "name": "stdout",
     "output_type": "stream",
     "text": [
      "Epoch 66 - Avg Train Loss: 0.2717\n",
      "Epoch 66 - Avg Val Loss: 0.6566, Train Accuracy: 98.9228, Val Accuracy: 75.4717\n"
     ]
    },
    {
     "name": "stderr",
     "output_type": "stream",
     "text": [
      "Epoch 67/75: 100%|██████████| 119/119 [00:02<00:00, 48.10it/s, loss=0.191]\n"
     ]
    },
    {
     "name": "stdout",
     "output_type": "stream",
     "text": [
      "Epoch 67 - Avg Train Loss: 0.2558\n",
      "Epoch 67 - Avg Val Loss: 0.7037, Train Accuracy: 99.1986, Val Accuracy: 75.9434\n"
     ]
    },
    {
     "name": "stderr",
     "output_type": "stream",
     "text": [
      "Epoch 68/75: 100%|██████████| 119/119 [00:02<00:00, 49.54it/s, loss=0.196]\n"
     ]
    },
    {
     "name": "stdout",
     "output_type": "stream",
     "text": [
      "Epoch 68 - Avg Train Loss: 0.2525\n",
      "Epoch 68 - Avg Val Loss: 0.6591, Train Accuracy: 99.3431, Val Accuracy: 76.4151\n"
     ]
    },
    {
     "name": "stderr",
     "output_type": "stream",
     "text": [
      "Epoch 69/75: 100%|██████████| 119/119 [00:02<00:00, 49.32it/s, loss=0.173]\n"
     ]
    },
    {
     "name": "stdout",
     "output_type": "stream",
     "text": [
      "Epoch 69 - Avg Train Loss: 0.2555\n",
      "Epoch 69 - Avg Val Loss: 0.7154, Train Accuracy: 99.1724, Val Accuracy: 75.9434\n"
     ]
    },
    {
     "name": "stderr",
     "output_type": "stream",
     "text": [
      "Epoch 70/75: 100%|██████████| 119/119 [00:02<00:00, 49.53it/s, loss=0.329]\n"
     ]
    },
    {
     "name": "stdout",
     "output_type": "stream",
     "text": [
      "Epoch 70 - Avg Train Loss: 0.2429\n",
      "Epoch 70 - Avg Val Loss: 0.7240, Train Accuracy: 99.1986, Val Accuracy: 74.5283\n"
     ]
    },
    {
     "name": "stderr",
     "output_type": "stream",
     "text": [
      "Epoch 71/75: 100%|██████████| 119/119 [00:02<00:00, 49.42it/s, loss=0.257]\n"
     ]
    },
    {
     "name": "stdout",
     "output_type": "stream",
     "text": [
      "Epoch 71 - Avg Train Loss: 0.2358\n",
      "Epoch 71 - Avg Val Loss: 0.6807, Train Accuracy: 99.3300, Val Accuracy: 75.4717\n"
     ]
    },
    {
     "name": "stderr",
     "output_type": "stream",
     "text": [
      "Epoch 72/75: 100%|██████████| 119/119 [00:02<00:00, 49.65it/s, loss=0.354]\n"
     ]
    },
    {
     "name": "stdout",
     "output_type": "stream",
     "text": [
      "Epoch 72 - Avg Train Loss: 0.2272\n",
      "Epoch 72 - Avg Val Loss: 0.6569, Train Accuracy: 99.5927, Val Accuracy: 77.8302\n"
     ]
    },
    {
     "name": "stderr",
     "output_type": "stream",
     "text": [
      "Epoch 73/75: 100%|██████████| 119/119 [00:02<00:00, 49.45it/s, loss=0.111]\n"
     ]
    },
    {
     "name": "stdout",
     "output_type": "stream",
     "text": [
      "Epoch 73 - Avg Train Loss: 0.2372\n",
      "Epoch 73 - Avg Val Loss: 0.6655, Train Accuracy: 99.6453, Val Accuracy: 78.3019\n"
     ]
    },
    {
     "name": "stderr",
     "output_type": "stream",
     "text": [
      "Epoch 74/75: 100%|██████████| 119/119 [00:02<00:00, 49.37it/s, loss=0.166]\n"
     ]
    },
    {
     "name": "stdout",
     "output_type": "stream",
     "text": [
      "Epoch 74 - Avg Train Loss: 0.2132\n",
      "Epoch 74 - Avg Val Loss: 0.6817, Train Accuracy: 99.7373, Val Accuracy: 77.8302\n"
     ]
    },
    {
     "name": "stderr",
     "output_type": "stream",
     "text": [
      "Epoch 75/75: 100%|██████████| 119/119 [00:02<00:00, 49.49it/s, loss=0.137] \n"
     ]
    },
    {
     "name": "stdout",
     "output_type": "stream",
     "text": [
      "Epoch 75 - Avg Train Loss: 0.2253\n",
      "Epoch 75 - Avg Val Loss: 0.6261, Train Accuracy: 99.7504, Val Accuracy: 77.3585\n",
      "Test accuracy: 70.20%\n"
     ]
    },
    {
     "data": {
      "image/png": "[encoded data removed]",
      "text/plain": [
       "<Figure size 640x480 with 1 Axes>"
      ]
     },
     "metadata": {},
     "output_type": "display_data"
    },
    {
     "data": {
      "image/png": "[encoded data removed]",
      "text/plain": [
       "<Figure size 640x480 with 1 Axes>"
      ]
     },
     "metadata": {},
     "output_type": "display_data"
    }
   ],
   "source": [
    "cnn_stats = train(\n",
    "    experiment_name=\"cnn_1d\",\n",
    "    num_epochs=75,\n",
    "    batch_size=64,\n",
    "    lr=1e-4,\n",
    "    device='mps',\n",
    "    wandb_track=False\n",
    ")\n",
    "plot_stats(cnn_stats)"
   ]
  },
  {
   "cell_type": "markdown",
   "metadata": {},
   "source": [
    "### Experiment \\#2: Mamba\n",
    "\n",
    "The architecture initialized below is Mamba, which was the main focus of our project. The selected hyperparameters used here and in `train.py` yielded the best results when we performed experiments. Note that we did not actually run the training loop here, because setting up a Jupyter notebook to run on CUDA was unnecessarily complex. However, it serves as an example of how to run the training function. You can also recreate our results by running the python script `train.py` that has a command-line interface."
   ]
  },
  {
   "cell_type": "code",
   "execution_count": null,
   "metadata": {},
   "outputs": [],
   "source": [
    "mamba_stats = train(\n",
    "    experiment_name=\"mamba\",\n",
    "    num_epochs=80,\n",
    "    batch_size=512,\n",
    "    lr=1e-3,\n",
    "    device='cuda',\n",
    "    wandb_track=False\n",
    ")\n",
    "plot_stats(mamba_stats)"
   ]
  }
 ],
 "metadata": {
  "kernelspec": {
   "display_name": "Python 3",
   "language": "python",
   "name": "python3"
  },
  "language_info": {
   "codemirror_mode": {
    "name": "ipython",
    "version": 3
   },
   "file_extension": ".py",
   "mimetype": "text/x-python",
   "name": "python",
   "nbconvert_exporter": "python",
   "pygments_lexer": "ipython3",
   "version": "3.11.7"
  },
  "orig_nbformat": 4
 },
 "nbformat": 4,
 "nbformat_minor": 2
}
